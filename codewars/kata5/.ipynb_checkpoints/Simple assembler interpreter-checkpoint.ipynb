{
 "cells": [
  {
   "cell_type": "code",
   "execution_count": null,
   "metadata": {},
   "outputs": [],
   "source": [
    "def simple_assembler(instructions):\n",
    "    i = 0\n",
    "    out = {}\n",
    "    \n",
    "    while i < len(instructions):\n",
    "        for instruction in instructions:\n",
    "            instr, reg, off = (instruction + \" 0\").split()[:3]\n",
    "            \n",
    "            if instr == \"mov\":\n",
    "                out[reg] = off\n",
    "                \n",
    "        return out\n",
    "            \n",
    "        \n",
    "    \n",
    "    \n",
    "#     for e in list_l:\n",
    "#         m = re.search(\"^([a-z]{3})[ ]([a-z])[ ]?(-?[a-z0-9]*)\", e)\n",
    "        \n",
    "#         if m.group(2) in out:\n",
    "#             pass\n",
    "#         else:\n",
    "\n",
    "#         if m:\n",
    "#             if m.group(1) == \"mov\":\n",
    "#                 try:\n",
    "#                     int(m.group(3))\n",
    "#                     out[m.group(2)] = int(m.group(3))\n",
    "#                 except:\n",
    "#                     out[m.group(2)] = out[m.group(3)]\n",
    "                \n",
    "#             elif m.group(1) == \"inc\":\n",
    "#                 if m.group(3) is None:\n",
    "#                     out[m.group(2)] += int(m.goup(3))\n",
    "#                 else:\n",
    "#                     out[m.group(2)] += 1\n",
    "                    \n",
    "#             elif m.group(1) == \"dec\":\n",
    "#                 if m.group(3) is None:\n",
    "#                     out[m.group(2)] -= int(m.goup(3))\n",
    "#                 else:\n",
    "#                     out[m.group(2)] -= 1\n",
    "                    \n",
    "#             elif m.group(1) == \"jnz\":\n",
    "#                 out[m.group(2)] = 0\n",
    "                \n",
    "#     return out"
   ]
  },
  {
   "cell_type": "code",
   "execution_count": null,
   "metadata": {},
   "outputs": [],
   "source": [
    "simple_assembler(['mov a 1','mov b 1','mov c 0','mov d 26','jnz c 2','jnz 1 5','mov c 7','inc d','dec c','jnz c -2','mov c a','inc a','dec b','jnz b -2','mov b c','dec d','jnz d -6','mov c 18','mov d 11','inc a','dec d','jnz d -2','dec c','jnz c -5'])"
   ]
  },
  {
   "cell_type": "code",
   "execution_count": 133,
   "metadata": {},
   "outputs": [],
   "source": [
    "import re\n",
    "\n",
    "class simple_assembler_(object):\n",
    "    def __init__(self, list_1):\n",
    "        self.a = 0\n",
    "        self.out = {}\n",
    "        self.in_list = list_1.copy()\n",
    "        \n",
    "        result = False\n",
    "        while result is not True:\n",
    "            result = self.fu_loop(self.in_list)\n",
    "            \n",
    "        \n",
    "    def fu_loop(self, list_loop):\n",
    "        for cpt, e in enumerate(list_loop):\n",
    "            m = re.search(\"^([a-z]{3})[ ]([a-z])[ ]?(-?[a-z0-9]*)\", e)\n",
    "            \n",
    "            print(e)\n",
    "            print(m.group(2))\n",
    "            \n",
    "            if m.group(2) not in self.out:\n",
    "                self.out[m.group(2)] = 0\n",
    "\n",
    "            if m:\n",
    "                if m.group(1) == \"mov\":\n",
    "                    try:\n",
    "                        int(m.group(3))\n",
    "                        self.out[m.group(2)] = int(m.group(3))\n",
    "                    except:\n",
    "                        self.out[m.group(2)] = self.out[m.group(3)]\n",
    "\n",
    "                elif m.group(1) == \"inc\":\n",
    "                    if m.group(3) is None:\n",
    "                        self.out[m.group(2)] += int(m.goup(3))\n",
    "                    else:\n",
    "                        self.out[m.group(2)] += 1\n",
    "\n",
    "                elif m.group(1) == \"dec\":\n",
    "                    if m.group(3) is None:\n",
    "                        self.out[m.group(2)] -= int(m.goup(3))\n",
    "                    else:\n",
    "                        self.out[m.group(2)] -= 1\n",
    "\n",
    "                elif m.group(1) == \"jnz\":\n",
    "                    if m.group(3) is None:\n",
    "                        self.in_list = list_loop[cpt + int(m.goup(3))]\n",
    "                        return False\n",
    "                    \n",
    "        \n",
    "        return True"
   ]
  },
  {
   "cell_type": "code",
   "execution_count": 134,
   "metadata": {},
   "outputs": [
    {
     "name": "stdout",
     "output_type": "stream",
     "text": [
      "mov a 1\n",
      "a\n",
      "mov b 1\n",
      "b\n",
      "mov c 0\n",
      "c\n",
      "mov d 26\n",
      "d\n",
      "jnz c 2\n",
      "c\n",
      "jnz 1 5\n"
     ]
    },
    {
     "ename": "AttributeError",
     "evalue": "'NoneType' object has no attribute 'group'",
     "output_type": "error",
     "traceback": [
      "\u001b[0;31m---------------------------------------------------------------------------\u001b[0m",
      "\u001b[0;31mAttributeError\u001b[0m                            Traceback (most recent call last)",
      "\u001b[0;32m<ipython-input-134-378435323404>\u001b[0m in \u001b[0;36m<module>\u001b[0;34m\u001b[0m\n\u001b[0;32m----> 1\u001b[0;31m \u001b[0msimple_assembler_\u001b[0m\u001b[0;34m(\u001b[0m\u001b[0;34m[\u001b[0m\u001b[0;34m'mov a 1'\u001b[0m\u001b[0;34m,\u001b[0m\u001b[0;34m'mov b 1'\u001b[0m\u001b[0;34m,\u001b[0m\u001b[0;34m'mov c 0'\u001b[0m\u001b[0;34m,\u001b[0m\u001b[0;34m'mov d 26'\u001b[0m\u001b[0;34m,\u001b[0m\u001b[0;34m'jnz c 2'\u001b[0m\u001b[0;34m,\u001b[0m\u001b[0;34m'jnz 1 5'\u001b[0m\u001b[0;34m,\u001b[0m\u001b[0;34m'mov c 7'\u001b[0m\u001b[0;34m,\u001b[0m\u001b[0;34m'inc d'\u001b[0m\u001b[0;34m,\u001b[0m\u001b[0;34m'dec c'\u001b[0m\u001b[0;34m,\u001b[0m\u001b[0;34m'jnz c -2'\u001b[0m\u001b[0;34m,\u001b[0m\u001b[0;34m'mov c a'\u001b[0m\u001b[0;34m,\u001b[0m\u001b[0;34m'inc a'\u001b[0m\u001b[0;34m,\u001b[0m\u001b[0;34m'dec b'\u001b[0m\u001b[0;34m,\u001b[0m\u001b[0;34m'jnz b -2'\u001b[0m\u001b[0;34m,\u001b[0m\u001b[0;34m'mov b c'\u001b[0m\u001b[0;34m,\u001b[0m\u001b[0;34m'dec d'\u001b[0m\u001b[0;34m,\u001b[0m\u001b[0;34m'jnz d -6'\u001b[0m\u001b[0;34m,\u001b[0m\u001b[0;34m'mov c 18'\u001b[0m\u001b[0;34m,\u001b[0m\u001b[0;34m'mov d 11'\u001b[0m\u001b[0;34m,\u001b[0m\u001b[0;34m'inc a'\u001b[0m\u001b[0;34m,\u001b[0m\u001b[0;34m'dec d'\u001b[0m\u001b[0;34m,\u001b[0m\u001b[0;34m'jnz d -2'\u001b[0m\u001b[0;34m,\u001b[0m\u001b[0;34m'dec c'\u001b[0m\u001b[0;34m,\u001b[0m\u001b[0;34m'jnz c -5'\u001b[0m\u001b[0;34m]\u001b[0m\u001b[0;34m)\u001b[0m\u001b[0;34m\u001b[0m\u001b[0m\n\u001b[0m",
      "\u001b[0;32m<ipython-input-133-76f839522414>\u001b[0m in \u001b[0;36m__init__\u001b[0;34m(self, list_1)\u001b[0m\n\u001b[1;32m      9\u001b[0m         \u001b[0mresult\u001b[0m \u001b[0;34m=\u001b[0m \u001b[0;32mFalse\u001b[0m\u001b[0;34m\u001b[0m\u001b[0m\n\u001b[1;32m     10\u001b[0m         \u001b[0;32mwhile\u001b[0m \u001b[0mresult\u001b[0m \u001b[0;32mis\u001b[0m \u001b[0;32mnot\u001b[0m \u001b[0;32mTrue\u001b[0m\u001b[0;34m:\u001b[0m\u001b[0;34m\u001b[0m\u001b[0m\n\u001b[0;32m---> 11\u001b[0;31m             \u001b[0mresult\u001b[0m \u001b[0;34m=\u001b[0m \u001b[0mself\u001b[0m\u001b[0;34m.\u001b[0m\u001b[0mfu_loop\u001b[0m\u001b[0;34m(\u001b[0m\u001b[0mself\u001b[0m\u001b[0;34m.\u001b[0m\u001b[0min_list\u001b[0m\u001b[0;34m)\u001b[0m\u001b[0;34m\u001b[0m\u001b[0m\n\u001b[0m\u001b[1;32m     12\u001b[0m \u001b[0;34m\u001b[0m\u001b[0m\n\u001b[1;32m     13\u001b[0m \u001b[0;34m\u001b[0m\u001b[0m\n",
      "\u001b[0;32m<ipython-input-133-76f839522414>\u001b[0m in \u001b[0;36mfu_loop\u001b[0;34m(self, list_loop)\u001b[0m\n\u001b[1;32m     17\u001b[0m \u001b[0;34m\u001b[0m\u001b[0m\n\u001b[1;32m     18\u001b[0m             \u001b[0mprint\u001b[0m\u001b[0;34m(\u001b[0m\u001b[0me\u001b[0m\u001b[0;34m)\u001b[0m\u001b[0;34m\u001b[0m\u001b[0m\n\u001b[0;32m---> 19\u001b[0;31m             \u001b[0mprint\u001b[0m\u001b[0;34m(\u001b[0m\u001b[0mm\u001b[0m\u001b[0;34m.\u001b[0m\u001b[0mgroup\u001b[0m\u001b[0;34m(\u001b[0m\u001b[0;36m2\u001b[0m\u001b[0;34m)\u001b[0m\u001b[0;34m)\u001b[0m\u001b[0;34m\u001b[0m\u001b[0m\n\u001b[0m\u001b[1;32m     20\u001b[0m \u001b[0;34m\u001b[0m\u001b[0m\n\u001b[1;32m     21\u001b[0m             \u001b[0;32mif\u001b[0m \u001b[0mm\u001b[0m\u001b[0;34m.\u001b[0m\u001b[0mgroup\u001b[0m\u001b[0;34m(\u001b[0m\u001b[0;36m2\u001b[0m\u001b[0;34m)\u001b[0m \u001b[0;32mnot\u001b[0m \u001b[0;32min\u001b[0m \u001b[0mself\u001b[0m\u001b[0;34m.\u001b[0m\u001b[0mout\u001b[0m\u001b[0;34m:\u001b[0m\u001b[0;34m\u001b[0m\u001b[0m\n",
      "\u001b[0;31mAttributeError\u001b[0m: 'NoneType' object has no attribute 'group'"
     ]
    }
   ],
   "source": [
    "simple_assembler_(['mov a 1','mov b 1','mov c 0','mov d 26','jnz c 2','jnz 1 5','mov c 7','inc d','dec c','jnz c -2','mov c a','inc a','dec b','jnz b -2','mov b c','dec d','jnz d -6','mov c 18','mov d 11','inc a','dec d','jnz d -2','dec c','jnz c -5'])"
   ]
  },
  {
   "cell_type": "code",
   "execution_count": null,
   "metadata": {},
   "outputs": [],
   "source": []
  }
 ],
 "metadata": {
  "kernelspec": {
   "display_name": "Python 3",
   "language": "python",
   "name": "python3"
  },
  "language_info": {
   "codemirror_mode": {
    "name": "ipython",
    "version": 3
   },
   "file_extension": ".py",
   "mimetype": "text/x-python",
   "name": "python",
   "nbconvert_exporter": "python",
   "pygments_lexer": "ipython3",
   "version": "3.7.0"
  }
 },
 "nbformat": 4,
 "nbformat_minor": 2
}
