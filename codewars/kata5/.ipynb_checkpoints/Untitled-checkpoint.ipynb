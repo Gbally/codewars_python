{
 "cells": [
  {
   "cell_type": "code",
   "execution_count": 12,
   "metadata": {},
   "outputs": [],
   "source": [
    "# def who_is_next(names, r):\n",
    "#     if r < len (names):\n",
    "#         return names[r - 1]\n",
    "#     else:\n",
    "        \n",
    "    \n",
    "    \n",
    "#     pass\n",
    "# import math\n",
    "\n",
    "# def whoIsNext(names, r):\n",
    "#     nS = int(math.log((r + 4) / 5, 2))\n",
    "#     rank1stSerie = (5 * math.pow(2, nS)) - 4\n",
    "#     dist = int((r - rank1stSerie) / (math.pow(2, nS)))\n",
    "#     return names[dist]\n",
    "\n",
    "def whoIsNext(names, r):\n",
    "    i = 0\n",
    "    mult = 1\n",
    "    while True:\n",
    "        for name in names:\n",
    "            i += mult\n",
    "            if i >= r:\n",
    "                return name\n",
    "        mult *= 2"
   ]
  },
  {
   "cell_type": "code",
   "execution_count": 13,
   "metadata": {},
   "outputs": [
    {
     "data": {
      "text/plain": [
       "'Sheldon'"
      ]
     },
     "execution_count": 13,
     "metadata": {},
     "output_type": "execute_result"
    }
   ],
   "source": [
    "names = [\"Sheldon\", \"Leonard\", \"Penny\", \"Rajesh\", \"Howard\"]\n",
    "whoIsNext(names, 1)"
   ]
  },
  {
   "cell_type": "code",
   "execution_count": 14,
   "metadata": {},
   "outputs": [
    {
     "data": {
      "text/plain": [
       "'Penny'"
      ]
     },
     "execution_count": 14,
     "metadata": {},
     "output_type": "execute_result"
    }
   ],
   "source": [
    "whoIsNext(names, 52)"
   ]
  },
  {
   "cell_type": "code",
   "execution_count": null,
   "metadata": {},
   "outputs": [],
   "source": []
  }
 ],
 "metadata": {
  "kernelspec": {
   "display_name": "Python 3",
   "language": "python",
   "name": "python3"
  },
  "language_info": {
   "codemirror_mode": {
    "name": "ipython",
    "version": 3
   },
   "file_extension": ".py",
   "mimetype": "text/x-python",
   "name": "python",
   "nbconvert_exporter": "python",
   "pygments_lexer": "ipython3",
   "version": "3.7.0"
  }
 },
 "nbformat": 4,
 "nbformat_minor": 2
}
