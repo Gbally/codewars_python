{
 "cells": [
  {
   "cell_type": "code",
   "execution_count": 37,
   "metadata": {},
   "outputs": [],
   "source": [
    "def check_win(check_list):\n",
    "    one_win = [1,1,1]\n",
    "    two_win = [2,2,2]\n",
    "    if check_list == one_win:\n",
    "        return 1\n",
    "    if check_list == two_win:\n",
    "        return 2\n",
    "\n",
    "def isSolved(board):\n",
    "    for line in board:\n",
    "        a = check_win(line)\n",
    "        if a is not None:\n",
    "            return a\n",
    "    \n",
    "    i = 0\n",
    "    j = 0\n",
    "    while i < 3:\n",
    "        custom_list = []\n",
    "        while j < 3:\n",
    "            custom_list.append(board[i][j])\n",
    "            j += 1\n",
    "        i += 1\n",
    "        check_win(custom_list)\n",
    "        \n",
    "    cross_1 = [board[0][0], board[1][1], board[2][2]]\n",
    "    cross_2 = [board[0][2], board[1][1], board[2][0]]\n",
    "    a = check_win(cross_1)\n",
    "    if a is not None:\n",
    "        return a\n",
    "    a = check_win(cross_2)\n",
    "    if a is not None:\n",
    "        return a\n",
    "    \n",
    "    for e in board:\n",
    "        if 0 in e:\n",
    "            return -1\n",
    "    return 0"
   ]
  },
  {
   "cell_type": "code",
   "execution_count": 38,
   "metadata": {},
   "outputs": [
    {
     "data": {
      "text/plain": [
       "0"
      ]
     },
     "execution_count": 38,
     "metadata": {},
     "output_type": "execute_result"
    }
   ],
   "source": [
    "isSolved([[2,1,1], [1,1,2], [2,1,2]])"
   ]
  },
  {
   "cell_type": "code",
   "execution_count": null,
   "metadata": {},
   "outputs": [],
   "source": []
  },
  {
   "cell_type": "code",
   "execution_count": null,
   "metadata": {},
   "outputs": [],
   "source": []
  }
 ],
 "metadata": {
  "kernelspec": {
   "display_name": "Python 3",
   "language": "python",
   "name": "python3"
  },
  "language_info": {
   "codemirror_mode": {
    "name": "ipython",
    "version": 3
   },
   "file_extension": ".py",
   "mimetype": "text/x-python",
   "name": "python",
   "nbconvert_exporter": "python",
   "pygments_lexer": "ipython3",
   "version": "3.7.0"
  }
 },
 "nbformat": 4,
 "nbformat_minor": 2
}
