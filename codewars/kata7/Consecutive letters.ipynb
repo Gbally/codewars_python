{
 "cells": [
  {
   "cell_type": "code",
   "execution_count": 16,
   "metadata": {},
   "outputs": [],
   "source": [
    "def solve(st):\n",
    "    letters = dict([(chr(i), i-96) for i in range(97,123)])\n",
    "    \n",
    "    l = []\n",
    "    [l.append(e) for e in st]\n",
    "    l.sort()\n",
    "\n",
    "    if len(l) == 1:\n",
    "        return True\n",
    "    \n",
    "    n, out = False, []\n",
    "    for l_ in l:\n",
    "        if n:\n",
    "            if (n + 1) == letters[l_]:\n",
    "                out.append(True)\n",
    "            else:\n",
    "                out.append(False)\n",
    "        n = letters[l_]\n",
    "    \n",
    "    if False in out:\n",
    "        return False\n",
    "    else:\n",
    "        return True"
   ]
  },
  {
   "cell_type": "code",
   "execution_count": 17,
   "metadata": {},
   "outputs": [
    {
     "data": {
      "text/plain": [
       "False"
      ]
     },
     "execution_count": 17,
     "metadata": {},
     "output_type": "execute_result"
    }
   ],
   "source": [
    "solve(\"abcdefp\")"
   ]
  },
  {
   "cell_type": "code",
   "execution_count": 23,
   "metadata": {},
   "outputs": [],
   "source": [
    "# Best prectice\n",
    "import string\n",
    "\n",
    "def solve_(st):\n",
    "    print(''.join(sorted(st)))\n",
    "    print(string.ascii_letters)\n",
    "    return ''.join(sorted(st)) in string.ascii_letters"
   ]
  },
  {
   "cell_type": "code",
   "execution_count": 24,
   "metadata": {},
   "outputs": [
    {
     "name": "stdout",
     "output_type": "stream",
     "text": [
      "xyz\n",
      "abcdefghijklmnopqrstuvwxyzABCDEFGHIJKLMNOPQRSTUVWXYZ\n"
     ]
    },
    {
     "data": {
      "text/plain": [
       "True"
      ]
     },
     "execution_count": 24,
     "metadata": {},
     "output_type": "execute_result"
    }
   ],
   "source": [
    "solve_(\"xyz\")"
   ]
  },
  {
   "cell_type": "code",
   "execution_count": null,
   "metadata": {},
   "outputs": [],
   "source": []
  }
 ],
 "metadata": {
  "kernelspec": {
   "display_name": "Python 3",
   "language": "python",
   "name": "python3"
  },
  "language_info": {
   "codemirror_mode": {
    "name": "ipython",
    "version": 3
   },
   "file_extension": ".py",
   "mimetype": "text/x-python",
   "name": "python",
   "nbconvert_exporter": "python",
   "pygments_lexer": "ipython3",
   "version": "3.7.0"
  }
 },
 "nbformat": 4,
 "nbformat_minor": 2
}
