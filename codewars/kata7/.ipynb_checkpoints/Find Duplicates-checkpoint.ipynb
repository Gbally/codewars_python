{
 "cells": [
  {
   "cell_type": "code",
   "execution_count": 75,
   "metadata": {},
   "outputs": [],
   "source": [
    "# def duplicates(array):\n",
    "#     print(array)\n",
    "#     out = []\n",
    "#     for f in array:\n",
    "#         x = [i for i, e in enumerate(array) if e == f]\n",
    "#         print(\"f: {}\".format(f))\n",
    "#         print(\"x: {}\".formnat(x))\n",
    "        \n",
    "#         if len(x) > 1: # and isinstance(f, int):\n",
    "#             if type(x[0]) == type(x[1]):\n",
    "#                 if f not in out:\n",
    "#                     out.append(f)\n",
    "#     return out\n",
    "\n",
    "# import collections\n",
    "\n",
    "def duplicates(array):\n",
    "    print(array)\n",
    "    l = []\n",
    "    out = []\n",
    "    for e in array:\n",
    "        if e in l and e not in out:\n",
    "            out.append(e)\n",
    "        l.append(e)\n",
    "    return out\n"
   ]
  },
  {
   "cell_type": "code",
   "execution_count": 76,
   "metadata": {},
   "outputs": [
    {
     "name": "stdout",
     "output_type": "stream",
     "text": [
      "[-5, -8, 2, 4, -4, 6, 3, -8, -1, -7, 2, 4]\n"
     ]
    },
    {
     "data": {
      "text/plain": [
       "[-8, 2, 4]"
      ]
     },
     "execution_count": 76,
     "metadata": {},
     "output_type": "execute_result"
    }
   ],
   "source": [
    "duplicates([-5, -8, 2, 4, -4, 6, 3, -8, -1, -7, 2, 4])"
   ]
  },
  {
   "cell_type": "code",
   "execution_count": null,
   "metadata": {},
   "outputs": [],
   "source": []
  }
 ],
 "metadata": {
  "kernelspec": {
   "display_name": "Python 3",
   "language": "python",
   "name": "python3"
  },
  "language_info": {
   "codemirror_mode": {
    "name": "ipython",
    "version": 3
   },
   "file_extension": ".py",
   "mimetype": "text/x-python",
   "name": "python",
   "nbconvert_exporter": "python",
   "pygments_lexer": "ipython3",
   "version": "3.7.0"
  }
 },
 "nbformat": 4,
 "nbformat_minor": 2
}
