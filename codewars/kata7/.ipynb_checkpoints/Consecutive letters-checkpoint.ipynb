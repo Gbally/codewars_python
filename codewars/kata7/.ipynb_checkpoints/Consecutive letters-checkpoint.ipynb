{
 "cells": [
  {
   "cell_type": "code",
   "execution_count": 14,
   "metadata": {},
   "outputs": [],
   "source": [
    "def solve(st):\n",
    "    letters = dict([(chr(i), i-96) for i in range(97,123)])\n",
    "    \n",
    "    l = []\n",
    "    [l.append(e) for e in st]\n",
    "    l.sort()\n",
    "\n",
    "    if len(l) == 1:\n",
    "        return True\n",
    "    \n",
    "    n, out = False, []\n",
    "    for l_ in l:\n",
    "        if n:\n",
    "            if (n + 1) == letters[l_]:\n",
    "                out.append(True)\n",
    "            else:\n",
    "                out.append(False)\n",
    "        n = letters[l_]\n",
    "    \n",
    "    if False in out:\n",
    "        return False\n",
    "    else:\n",
    "        return True"
   ]
  },
  {
   "cell_type": "code",
   "execution_count": 15,
   "metadata": {},
   "outputs": [
    {
     "data": {
      "text/plain": [
       "False"
      ]
     },
     "execution_count": 15,
     "metadata": {},
     "output_type": "execute_result"
    }
   ],
   "source": [
    "solve(\"abcdefp\")"
   ]
  },
  {
   "cell_type": "code",
   "execution_count": null,
   "metadata": {},
   "outputs": [],
   "source": []
  }
 ],
 "metadata": {
  "kernelspec": {
   "display_name": "Python 3",
   "language": "python",
   "name": "python3"
  },
  "language_info": {
   "codemirror_mode": {
    "name": "ipython",
    "version": 3
   },
   "file_extension": ".py",
   "mimetype": "text/x-python",
   "name": "python",
   "nbconvert_exporter": "python",
   "pygments_lexer": "ipython3",
   "version": "3.7.0"
  }
 },
 "nbformat": 4,
 "nbformat_minor": 2
}
