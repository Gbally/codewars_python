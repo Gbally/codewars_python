{
 "cells": [
  {
   "cell_type": "code",
   "execution_count": 34,
   "metadata": {},
   "outputs": [],
   "source": [
    "def duplicates(arr):\n",
    "    out = 0\n",
    "    for f in arr:\n",
    "        print(arr)\n",
    "        print(f)\n",
    "        print(len([i for i, e in enumerate(arr) if e == f]))\n",
    "        if len([i for i, e in enumerate(arr) if e == f]) > 1:\n",
    "            arr.remove(f)\n",
    "            arr.remove(f)\n",
    "            out += 1\n",
    "    return out\n",
    "\n"
   ]
  },
  {
   "cell_type": "code",
   "execution_count": 35,
   "metadata": {},
   "outputs": [
    {
     "name": "stdout",
     "output_type": "stream",
     "text": [
      "[1, 2, 2, 20, 6, 20, 2, 6, 2]\n",
      "1\n",
      "1\n",
      "[1, 2, 2, 20, 6, 20, 2, 6, 2]\n",
      "2\n",
      "4\n",
      "[1, 20, 6, 20, 2, 6, 2]\n",
      "6\n",
      "2\n",
      "[1, 20, 20, 2, 2]\n",
      "2\n",
      "2\n"
     ]
    },
    {
     "data": {
      "text/plain": [
       "3"
      ]
     },
     "execution_count": 35,
     "metadata": {},
     "output_type": "execute_result"
    }
   ],
   "source": [
    "duplicates([1, 2, 2, 20, 6, 20, 2, 6, 2])"
   ]
  },
  {
   "cell_type": "code",
   "execution_count": 29,
   "metadata": {},
   "outputs": [
    {
     "data": {
      "text/plain": [
       "3"
      ]
     },
     "execution_count": 29,
     "metadata": {},
     "output_type": "execute_result"
    }
   ],
   "source": [
    "duplicates([0, 0, 0, 0, 0, 0, 0])"
   ]
  },
  {
   "cell_type": "code",
   "execution_count": null,
   "metadata": {},
   "outputs": [],
   "source": []
  }
 ],
 "metadata": {
  "kernelspec": {
   "display_name": "Python 3",
   "language": "python",
   "name": "python3"
  },
  "language_info": {
   "codemirror_mode": {
    "name": "ipython",
    "version": 3
   },
   "file_extension": ".py",
   "mimetype": "text/x-python",
   "name": "python",
   "nbconvert_exporter": "python",
   "pygments_lexer": "ipython3",
   "version": "3.7.0"
  }
 },
 "nbformat": 4,
 "nbformat_minor": 2
}
