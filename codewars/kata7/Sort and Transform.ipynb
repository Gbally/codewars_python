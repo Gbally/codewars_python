{
 "cells": [
  {
   "cell_type": "code",
   "execution_count": 69,
   "metadata": {},
   "outputs": [],
   "source": [
    "def int_to_str(arr):\n",
    "    return ''.join([str(chr(e)) for e in arr])\n",
    "\n",
    "def sort_transform(arr):\n",
    "    # Step 1\n",
    "    out = int_to_str(arr[:2] + arr[-2:])\n",
    "    \n",
    "    # Step 2\n",
    "    arr.sort()\n",
    "    out += \"-\" + int_to_str(arr[:2] + arr[-2:])\n",
    "    \n",
    "    # Step 3\n",
    "    array_3 = arr[::-1]\n",
    "    last = int_to_str(array_3[:2] + array_3[-2:])\n",
    "    out += \"-\" + last\n",
    "    \n",
    "    # Step 4\n",
    "    out += \"-\" + ''.join(sorted(last))\n",
    "        \n",
    "    return out"
   ]
  },
  {
   "cell_type": "code",
   "execution_count": 70,
   "metadata": {},
   "outputs": [
    {
     "name": "stdout",
     "output_type": "stream",
     "text": [
      "Beoq-7Boq-qoB7-7Boq\n"
     ]
    }
   ],
   "source": [
    "print(sort_transform([66, 101, 55, 111, 113]))"
   ]
  },
  {
   "cell_type": "code",
   "execution_count": null,
   "metadata": {},
   "outputs": [],
   "source": []
  },
  {
   "cell_type": "code",
   "execution_count": null,
   "metadata": {},
   "outputs": [],
   "source": []
  }
 ],
 "metadata": {
  "kernelspec": {
   "display_name": "Python 3",
   "language": "python",
   "name": "python3"
  },
  "language_info": {
   "codemirror_mode": {
    "name": "ipython",
    "version": 3
   },
   "file_extension": ".py",
   "mimetype": "text/x-python",
   "name": "python",
   "nbconvert_exporter": "python",
   "pygments_lexer": "ipython3",
   "version": "3.7.0"
  }
 },
 "nbformat": 4,
 "nbformat_minor": 2
}
