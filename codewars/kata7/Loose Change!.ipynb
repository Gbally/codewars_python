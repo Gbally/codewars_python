{
 "cells": [
  {
   "cell_type": "markdown",
   "metadata": {},
   "source": [
    "Good thing you can code!\n",
    "\n",
    "Create change_count() to return a dollar amount of how much change you have!\n",
    "\n",
    "Valid types of change include:\n",
    "\n",
    "```\n",
    "penny: 0.01\n",
    "nickel: 0.05\n",
    "dime: 0.10\n",
    "quarter: 0.25\n",
    "dollar: 1.00\n",
    "```\n",
    "These amounts are already preloaded as floats into the CHANGE dictionary for you to use!\n",
    "\n",
    "You should return the total in the format $x.xx.\n",
    "\n",
    "Examples:\n",
    "\n",
    "```\n",
    "change_count('nickel penny dime dollar') == '$1.16'\n",
    "change_count('dollar dollar quarter dime dime') == '$2.45'\n",
    "change_count('penny') == '$0.01'\n",
    "change_count('dime') == '$0.10'\n",
    "```\n",
    "Warning, some change may amount to over $10.00!"
   ]
  },
  {
   "cell_type": "code",
   "execution_count": 27,
   "metadata": {},
   "outputs": [],
   "source": [
    "def change_count(change):\n",
    "    dic = {\"penny\": 0.01, \"nickel\": 0.05, \"dime\": 0.10, \"quarter\": 0.25, \"dollar\": 1.00}\n",
    "    out = 0\n",
    "#     for e in change.split():\n",
    "#         out = out + dic[e]\n",
    "#     return ('$%.2f' % out)\n",
    "    return '$%.2f' % sum([out + dic[e] for e in change.split()])\n"
   ]
  },
  {
   "cell_type": "code",
   "execution_count": 30,
   "metadata": {},
   "outputs": [
    {
     "data": {
      "text/plain": [
       "'$1.16'"
      ]
     },
     "execution_count": 30,
     "metadata": {},
     "output_type": "execute_result"
    }
   ],
   "source": [
    "change_count('nickel penny dime dollar')"
   ]
  },
  {
   "cell_type": "code",
   "execution_count": null,
   "metadata": {},
   "outputs": [],
   "source": []
  }
 ],
 "metadata": {
  "kernelspec": {
   "display_name": "Python 3",
   "language": "python",
   "name": "python3"
  },
  "language_info": {
   "codemirror_mode": {
    "name": "ipython",
    "version": 3
   },
   "file_extension": ".py",
   "mimetype": "text/x-python",
   "name": "python",
   "nbconvert_exporter": "python",
   "pygments_lexer": "ipython3",
   "version": "3.7.0"
  }
 },
 "nbformat": 4,
 "nbformat_minor": 2
}
