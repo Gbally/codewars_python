{
 "cells": [
  {
   "cell_type": "code",
   "execution_count": null,
   "metadata": {},
   "outputs": [],
   "source": [
    "import numpy as np\n",
    "def validSolution(board):\n",
    "    pass_line = [1, 2, 3, 4, 5, 6, 7, 8, 9]\n",
    "    sorted_board = np.sort(board, axis = 1)\n",
    "    for line in sorted_board: # Check line by line\n",
    "        v = np.array(line) == np.array(pass_line)\n",
    "        if not v.all():\n",
    "            return False\n",
    "        \n",
    "    \n",
    "    i = 0\n",
    "    while i < 9: # Checl column by colum\n",
    "        tmp = []\n",
    "        for line in board:\n",
    "            tmp.append(line[i])\n",
    "            \n",
    "        v = np.array(sorted(tmp)) == np.array(pass_line)\n",
    "        if not v.all():\n",
    "            return False\n",
    "        i += 1\n",
    "        \n",
    "    l = 0\n",
    "    x = 3\n",
    "    while True: # Check square by square\n",
    "        tmp_1 = []\n",
    "        tmp_2 = []\n",
    "        tmp_3 = []\n",
    "        e = 0\n",
    "        while l < x:\n",
    "            while e < 9:\n",
    "                if e <= 3\n",
    "                    tmp_1.append(board[l][e])\n",
    "                elif e <= 6\n",
    "                    tmp_2.append(board[l][e])\n",
    "                elif e <= 9\n",
    "                    tmp_3.append(board[l][e])\n",
    "                e += 1\n",
    "            l += 1\n",
    "            e = 0\n",
    "            \n",
    "        v_1 = np.array(sorted(tmp_1)) == np.array(pass_line)\n",
    "        v_2 = np.array(sorted(tmp_2)) == np.array(pass_line)\n",
    "        v_3 = np.array(sorted(tmp_3)) == np.array(pass_line)\n",
    "        if not v_1.all() or not v_2.all() or not v_3.all():\n",
    "            return False\n",
    "        \n",
    "        if x == 9:\n",
    "            break\n",
    "            \n",
    "        x += 3\n",
    "        l += 3\n",
    "        \n",
    "        \n",
    "    return True"
   ]
  },
  {
   "cell_type": "code",
   "execution_count": null,
   "metadata": {},
   "outputs": [],
   "source": [
    "validSolution([[1, 2, 3, 4, 5, 6, 7, 8, 9],\n",
    "               [2, 3, 4, 5, 6, 7, 8, 9, 1],\n",
    "               [3, 4, 5, 6, 7, 8, 9, 1, 2],\n",
    "               [4, 5, 6, 7, 8, 9, 1, 2, 3],\n",
    "               [5, 6, 7, 8, 9, 1, 2, 3, 4],\n",
    "               [6, 7, 8, 9, 1, 2, 3, 4, 5],\n",
    "               [7, 8, 9, 1, 2, 3, 4, 5, 6],\n",
    "               [8, 9, 1, 2, 3, 4, 5, 6, 7],\n",
    "               [9, 1, 2, 3, 4, 5, 6, 7, 8]])"
   ]
  },
  {
   "cell_type": "code",
   "execution_count": null,
   "metadata": {},
   "outputs": [],
   "source": [
    "validSolution([[5, 3, 4, 6, 7, 8, 9, 1, 2], \n",
    "                         [6, 7, 2, 1, 9, 0, 3, 4, 9],\n",
    "                         [1, 0, 0, 3, 4, 2, 5, 6, 0],\n",
    "                         [8, 5, 9, 7, 6, 1, 0, 2, 0],\n",
    "                         [4, 2, 6, 8, 5, 3, 7, 9, 1],\n",
    "                         [7, 1, 3, 9, 2, 4, 8, 5, 6],\n",
    "                         [9, 0, 1, 5, 3, 7, 2, 1, 4],\n",
    "                         [2, 8, 7, 4, 1, 9, 6, 3, 5],\n",
    "                         [3, 0, 0, 4, 8, 1, 1, 7, 9]])"
   ]
  },
  {
   "cell_type": "code",
   "execution_count": null,
   "metadata": {},
   "outputs": [],
   "source": [
    "validSolution([[5, 3, 4, 6, 7, 8, 9, 1, 2],\n",
    "               [6, 7, 2, 1, 9, 5, 3, 4, 8],\n",
    "               [1, 9, 8, 3, 4, 2, 5, 6, 7],\n",
    "               [8, 5, 9, 7, 6, 1, 4, 2, 3],\n",
    "               [4, 2, 6, 8, 5, 3, 7, 9, 1],\n",
    "               [7, 1, 3, 9, 2, 4, 8, 5, 6],\n",
    "               [9, 6, 1, 5, 3, 7, 2, 8, 4],\n",
    "               [2, 8, 7, 4, 1, 9, 6, 3, 5],\n",
    "               [3, 4, 5, 2, 8, 6, 1, 7, 9]])"
   ]
  },
  {
   "cell_type": "code",
   "execution_count": null,
   "metadata": {},
   "outputs": [],
   "source": []
  }
 ],
 "metadata": {
  "kernelspec": {
   "display_name": "Python 3",
   "language": "python",
   "name": "python3"
  },
  "language_info": {
   "codemirror_mode": {
    "name": "ipython",
    "version": 3
   },
   "file_extension": ".py",
   "mimetype": "text/x-python",
   "name": "python",
   "nbconvert_exporter": "python",
   "pygments_lexer": "ipython3",
   "version": "3.7.0"
  }
 },
 "nbformat": 4,
 "nbformat_minor": 2
}
