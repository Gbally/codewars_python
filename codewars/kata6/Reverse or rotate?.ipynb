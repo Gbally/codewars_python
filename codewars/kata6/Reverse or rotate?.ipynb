{
 "cells": [
  {
   "cell_type": "code",
   "execution_count": 91,
   "metadata": {},
   "outputs": [],
   "source": [
    "def revrot(string, sz):\n",
    "    if sz <= 0 or string == \"\":\n",
    "        return \"\"\n",
    "    \n",
    "    chuncks = [string[i:i+sz] for i in range(0, len(string), sz)]\n",
    "    if len(chuncks[-1]) < sz:\n",
    "        del chuncks[-1]\n",
    "\n",
    "    for cpt, chunck in enumerate(chuncks):\n",
    "        c_sum = sum([int(s) for s in chunck])\n",
    "        if c_sum % 2 == 0:\n",
    "            chuncks[cpt] = chunck[::-1]\n",
    "        else:\n",
    "            chuncks[cpt] = chunck[1:] + chunck[:1]\n",
    "        \n",
    "    return ''.join(chuncks)"
   ]
  },
  {
   "cell_type": "code",
   "execution_count": 77,
   "metadata": {},
   "outputs": [
    {
     "data": {
      "text/plain": [
       "'2345167896'"
      ]
     },
     "execution_count": 77,
     "metadata": {},
     "output_type": "execute_result"
    }
   ],
   "source": [
    "s = \"123456987653\"\n",
    "revrot(s, 5)"
   ]
  },
  {
   "cell_type": "code",
   "execution_count": 94,
   "metadata": {},
   "outputs": [
    {
     "data": {
      "text/plain": [
       "'2345167896'"
      ]
     },
     "execution_count": 94,
     "metadata": {},
     "output_type": "execute_result"
    }
   ],
   "source": [
    "s = \"123456987653\"\n",
    "revrot(s, 5)"
   ]
  },
  {
   "cell_type": "code",
   "execution_count": null,
   "metadata": {},
   "outputs": [],
   "source": []
  }
 ],
 "metadata": {
  "kernelspec": {
   "display_name": "Python 3",
   "language": "python",
   "name": "python3"
  },
  "language_info": {
   "codemirror_mode": {
    "name": "ipython",
    "version": 3
   },
   "file_extension": ".py",
   "mimetype": "text/x-python",
   "name": "python",
   "nbconvert_exporter": "python",
   "pygments_lexer": "ipython3",
   "version": "3.7.0"
  }
 },
 "nbformat": 4,
 "nbformat_minor": 2
}
