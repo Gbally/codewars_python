{
 "cells": [
  {
   "cell_type": "code",
   "execution_count": 77,
   "metadata": {},
   "outputs": [],
   "source": [
    "def encode(string):\n",
    "    out = []\n",
    "    for s in string:\n",
    "        if len(out) >= 2:\n",
    "            if out[-1].endswith(s):\n",
    "                out[-2] += 1\n",
    "            else:\n",
    "                out = out + [1, s]\n",
    "        else:\n",
    "            out = out + [1, s]\n",
    "    \n",
    "    return ''.join(map(str, out)) if len(out) >= 2 else ''"
   ]
  },
  {
   "cell_type": "code",
   "execution_count": null,
   "metadata": {},
   "outputs": [],
   "source": [
    "print(encode(\"\"))"
   ]
  },
  {
   "cell_type": "code",
   "execution_count": 129,
   "metadata": {},
   "outputs": [],
   "source": [
    "def decode(string):\n",
    "    out, unit = '', ''\n",
    "    for s in string:\n",
    "        if s in '1234567890':\n",
    "            unit += s\n",
    "            \n",
    "        else:\n",
    "            for i in range(int(unit)):\n",
    "                out += s\n",
    "            unit = ''\n",
    "            \n",
    "    return out"
   ]
  },
  {
   "cell_type": "code",
   "execution_count": 132,
   "metadata": {},
   "outputs": [
    {
     "data": {
      "text/plain": [
       "'ABBBBBBBBBBBBBBBBBBB'"
      ]
     },
     "execution_count": 132,
     "metadata": {},
     "output_type": "execute_result"
    }
   ],
   "source": [
    "decode(\"1A19B\")"
   ]
  },
  {
   "cell_type": "markdown",
   "metadata": {},
   "source": [
    "# Best practice"
   ]
  },
  {
   "cell_type": "code",
   "execution_count": 133,
   "metadata": {},
   "outputs": [],
   "source": [
    "from re import sub\n",
    "\n",
    "def encode(string):\n",
    "    return sub(r'(.)\\1*', lambda m: str(len(m.group(0))) + m.group(1),string)\n",
    "    \n",
    "def decode(string): \n",
    "    return sub(r'(\\d+)(\\D)', lambda m: m.group(2) * int(m.group(1)),string)"
   ]
  },
  {
   "cell_type": "code",
   "execution_count": null,
   "metadata": {},
   "outputs": [],
   "source": []
  }
 ],
 "metadata": {
  "kernelspec": {
   "display_name": "Python 3",
   "language": "python",
   "name": "python3"
  },
  "language_info": {
   "codemirror_mode": {
    "name": "ipython",
    "version": 3
   },
   "file_extension": ".py",
   "mimetype": "text/x-python",
   "name": "python",
   "nbconvert_exporter": "python",
   "pygments_lexer": "ipython3",
   "version": "3.7.0"
  }
 },
 "nbformat": 4,
 "nbformat_minor": 2
}
