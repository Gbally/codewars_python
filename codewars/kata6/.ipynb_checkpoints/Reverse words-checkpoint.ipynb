{
 "cells": [
  {
   "cell_type": "code",
   "execution_count": 1,
   "metadata": {},
   "outputs": [],
   "source": [
    "# Imports"
   ]
  },
  {
   "cell_type": "code",
   "execution_count": 19,
   "metadata": {},
   "outputs": [],
   "source": [
    "def reverse_words(text):\n",
    "    to_list = text.split()\n",
    "    out = \"\"\n",
    "    for e in to_list:\n",
    "        out += e[::-1]\n",
    "        cpt = 0\n",
    "        for i in text:\n",
    "            cpt += 1\n",
    "            if i == ' ':\n",
    "                if text[cpt] == ' ':\n",
    "                    out += '  '\n",
    "                    break\n",
    "                else:\n",
    "                    out += ' '\n",
    "                    break\n",
    "            \n",
    "    if out[-2:] == '  ':\n",
    "        out = out[:-2]\n",
    "    elif out[-1:] == ' ':\n",
    "        out = out[:-1]\n",
    "    return out"
   ]
  },
  {
   "cell_type": "code",
   "execution_count": 20,
   "metadata": {},
   "outputs": [
    {
     "data": {
      "text/plain": [
       "'a b c d'"
      ]
     },
     "execution_count": 20,
     "metadata": {},
     "output_type": "execute_result"
    }
   ],
   "source": [
    "reverse_words(\"a b c d\")"
   ]
  },
  {
   "cell_type": "code",
   "execution_count": null,
   "metadata": {},
   "outputs": [],
   "source": []
  }
 ],
 "metadata": {
  "kernelspec": {
   "display_name": "Python 3",
   "language": "python",
   "name": "python3"
  },
  "language_info": {
   "codemirror_mode": {
    "name": "ipython",
    "version": 3
   },
   "file_extension": ".py",
   "mimetype": "text/x-python",
   "name": "python",
   "nbconvert_exporter": "python",
   "pygments_lexer": "ipython3",
   "version": "3.7.0"
  }
 },
 "nbformat": 4,
 "nbformat_minor": 2
}
