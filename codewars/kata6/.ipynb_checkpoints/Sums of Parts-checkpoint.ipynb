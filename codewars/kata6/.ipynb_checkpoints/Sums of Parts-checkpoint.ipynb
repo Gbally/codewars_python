{
 "cells": [
  {
   "cell_type": "code",
   "execution_count": 61,
   "metadata": {},
   "outputs": [],
   "source": [
    "import random\n",
    "import time\n",
    "import numpy as np\n",
    "import math"
   ]
  },
  {
   "cell_type": "code",
   "execution_count": 115,
   "metadata": {},
   "outputs": [],
   "source": [
    "def parts_sums(ls):\n",
    "    out = []\n",
    "    cpt = 0\n",
    "    out.append(sum(ls))\n",
    "    \n",
    "    while ls != []:\n",
    "        \n",
    "        ls_1 = ls[0]\n",
    "        out.append(out[cpt] - ls_1)\n",
    "        ls.pop(0)\n",
    "        cpt += 1\n",
    "        \n",
    "    out.append(0)\n",
    "    return out\n",
    "\n",
    "\n",
    "\n",
    "\n",
    "\n",
    "\n",
    "def test():\n",
    "    now = time.time()\n",
    "    parts_sums(random.sample(range(1, 100000), 90000))\n",
    "    end = time.time()\n",
    "    print(\"Exce time: {}\".format(end - now))"
   ]
  },
  {
   "cell_type": "code",
   "execution_count": 116,
   "metadata": {},
   "outputs": [
    {
     "name": "stdout",
     "output_type": "stream",
     "text": [
      "Exce time: 0.9068748950958252\n"
     ]
    }
   ],
   "source": [
    "test()"
   ]
  },
  {
   "cell_type": "code",
   "execution_count": null,
   "metadata": {},
   "outputs": [],
   "source": []
  }
 ],
 "metadata": {
  "kernelspec": {
   "display_name": "Python 3",
   "language": "python",
   "name": "python3"
  },
  "language_info": {
   "codemirror_mode": {
    "name": "ipython",
    "version": 3
   },
   "file_extension": ".py",
   "mimetype": "text/x-python",
   "name": "python",
   "nbconvert_exporter": "python",
   "pygments_lexer": "ipython3",
   "version": "3.7.0"
  }
 },
 "nbformat": 4,
 "nbformat_minor": 2
}
