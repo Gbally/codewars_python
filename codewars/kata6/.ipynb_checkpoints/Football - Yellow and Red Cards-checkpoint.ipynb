{
 "cells": [
  {
   "cell_type": "code",
   "execution_count": 79,
   "metadata": {},
   "outputs": [],
   "source": [
    "import re\n",
    "\n",
    "def which_card(d, s):\n",
    "    player = re.compile('[AB](\\d*)[YR]').search(s).group(1)\n",
    "    card = re.compile('[A-B][1-9]\\d*(.)').search(s).group(1)\n",
    "    if not d[int(player)]:\n",
    "        d[int(player)] = card\n",
    "    elif d[int(player)] == \"Y\":\n",
    "        d[int(player)] = \"R\"\n",
    "\n",
    "        \n",
    "def rest_players(d):\n",
    "    i = 11\n",
    "    for key, value in d.items():\n",
    "        if value is \"R\":\n",
    "            i -= 1\n",
    "    if i < 6:\n",
    "        i = 6\n",
    "    return i\n",
    "    \n",
    "def men_still_standing(cards):\n",
    "    dic_team_a = {1: False, 2: False, 3: False, 4: False, 5: False, 6: False, 7: False, 8: False, 9: False, 10: False, 11: False}\n",
    "    dic_team_b = {1: False, 2: False, 3: False, 4: False, 5: False, 6: False, 7: False, 8: False, 9: False, 10: False, 11: False}\n",
    "\n",
    "    for card in cards:\n",
    "        if card.startswith(\"A\"):\n",
    "            which_card(dic_team_a, card)\n",
    "        else:\n",
    "            which_card(dic_team_b, card)\n",
    "            \n",
    "        if rest_players(dic_team_a) < 7 or rest_players(dic_team_b) < 7:\n",
    "            break\n",
    "            \n",
    "    return (rest_players(dic_team_a), rest_players(dic_team_b))\n",
    "\n",
    "    \n",
    "    "
   ]
  },
  {
   "cell_type": "code",
   "execution_count": 80,
   "metadata": {},
   "outputs": [
    {
     "data": {
      "text/plain": [
       "(9, 6)"
      ]
     },
     "execution_count": 80,
     "metadata": {},
     "output_type": "execute_result"
    }
   ],
   "source": [
    "men_still_standing(['B5Y', 'B4Y', 'B1R', 'B8Y', 'B4R', 'A11Y', 'A3Y', 'B1R', 'A8R', 'B4Y', 'A2Y', 'B1Y', 'B9R', 'A3Y', 'B3R', 'B8Y', 'A9Y', 'A1Y', 'B5R', 'B11Y', 'A10R'])\n",
    "# men_still_standing(['A11Y', 'A3Y', 'A8R', 'A2Y', 'A3Y', 'A9Y', 'A1Y', 'A10R'])\n",
    "\n",
    "\n",
    "\n"
   ]
  }
 ],
 "metadata": {
  "kernelspec": {
   "display_name": "Python 3",
   "language": "python",
   "name": "python3"
  },
  "language_info": {
   "codemirror_mode": {
    "name": "ipython",
    "version": 3
   },
   "file_extension": ".py",
   "mimetype": "text/x-python",
   "name": "python",
   "nbconvert_exporter": "python",
   "pygments_lexer": "ipython3",
   "version": "3.7.0"
  }
 },
 "nbformat": 4,
 "nbformat_minor": 2
}
