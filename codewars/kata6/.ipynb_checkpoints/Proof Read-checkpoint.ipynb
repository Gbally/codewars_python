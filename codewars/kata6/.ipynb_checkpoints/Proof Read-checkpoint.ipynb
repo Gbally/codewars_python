{
 "cells": [
  {
   "cell_type": "code",
   "execution_count": 50,
   "metadata": {},
   "outputs": [],
   "source": [
    "def proofread(string):\n",
    "    out = ''\n",
    "    flag, flag_dot, skip = False, False, False\n",
    "    \n",
    "    for cpt, s in enumerate(string.lower()):\n",
    "        if not flag: # Skip one element (2 added)\n",
    "            if cpt == 0 or flag_dot:\n",
    "                out += s.upper()\n",
    "                flag_dot = False\n",
    "                skip = True\n",
    "\n",
    "            if s.lower() == \"i\" and string[cpt + 1].lower() == \"e\": # ei words\n",
    "                if skip:\n",
    "                    out = out[:-1]\n",
    "                    out += \"Ei\"\n",
    "                else:\n",
    "                    out += \"ei\"\n",
    "                flag = True\n",
    "                \n",
    "            elif s == \" \": # letter is space\n",
    "                out += s\n",
    "                \n",
    "            elif s == \".\":\n",
    "                out += \". \"\n",
    "                flag_dot = True\n",
    "                flag = True\n",
    "                if len(string) == cpt + 1:\n",
    "                    out = out[:-1]\n",
    "                \n",
    "            elif s.lower() in list(map(chr, range(97, 123))) + [\"'\", ','] and not skip: # Normal letter\n",
    "                out += s.lower()\n",
    "            skip = False\n",
    "                \n",
    "        else:\n",
    "            flag = False\n",
    "        \n",
    "    return out"
   ]
  },
  {
   "cell_type": "code",
   "execution_count": 51,
   "metadata": {},
   "outputs": [
    {
     "data": {
      "text/plain": [
       "'S. Eiojtfvus'"
      ]
     },
     "execution_count": 51,
     "metadata": {},
     "output_type": "execute_result"
    }
   ],
   "source": [
    "proofread(\"S. IEOjtfvUs\")"
   ]
  },
  {
   "cell_type": "code",
   "execution_count": 52,
   "metadata": {},
   "outputs": [],
   "source": [
    "def proofread(s):    \n",
    "    return '. '.join(i.lower().replace('ie', 'ei').capitalize() for i in s.split('. '))"
   ]
  },
  {
   "cell_type": "code",
   "execution_count": null,
   "metadata": {},
   "outputs": [],
   "source": [
    "proofread_(\"Y\")"
   ]
  }
 ],
 "metadata": {
  "kernelspec": {
   "display_name": "Python 3",
   "language": "python",
   "name": "python3"
  },
  "language_info": {
   "codemirror_mode": {
    "name": "ipython",
    "version": 3
   },
   "file_extension": ".py",
   "mimetype": "text/x-python",
   "name": "python",
   "nbconvert_exporter": "python",
   "pygments_lexer": "ipython3",
   "version": "3.7.0"
  }
 },
 "nbformat": 4,
 "nbformat_minor": 2
}
