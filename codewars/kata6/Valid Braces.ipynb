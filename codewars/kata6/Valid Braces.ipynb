{
 "cells": [
  {
   "cell_type": "code",
   "execution_count": 56,
   "metadata": {},
   "outputs": [],
   "source": [
    "def validBraces(s):\n",
    "    l = ['()', '{}', '[]']\n",
    "    \n",
    "    l_1 = ['(', '{', '[']\n",
    "    l_2 = [')', '}', ']']\n",
    "    \n",
    "    string = list(s)\n",
    "    dic_ = {'(': 0, '{': 0, '[': 0} # Must always be positive and end at 0\n",
    "    \n",
    "    for e in string:\n",
    "        for le in l:\n",
    "            if e in l_1:\n",
    "                dic_[e] += 1\n",
    "                \n",
    "            else:\n",
    "                index = l_2.index(e)\n",
    "                dic_[l_1[index]] -= 1\n",
    "                \n",
    "            for check in dic_.values():\n",
    "                if check < 0:\n",
    "                    return False\n",
    "    \n",
    "    for check in dic_.values():\n",
    "        if check != 0:\n",
    "            return False\n",
    "    return True"
   ]
  },
  {
   "cell_type": "code",
   "execution_count": 59,
   "metadata": {},
   "outputs": [
    {
     "name": "stdout",
     "output_type": "stream",
     "text": [
      "{'(': 0, '{': 0, '[': 0}\n",
      "{'(': 0, '{': 0, '[': 0}\n"
     ]
    },
    {
     "data": {
      "text/plain": [
       "True"
      ]
     },
     "execution_count": 59,
     "metadata": {},
     "output_type": "execute_result"
    }
   ],
   "source": [
    "validBraces(\"\")"
   ]
  },
  {
   "cell_type": "code",
   "execution_count": 47,
   "metadata": {},
   "outputs": [],
   "source": [
    "def validBraces_(s):\n",
    "    while '{}' in s or '()' in s or '[]' in s:\n",
    "        s=s.replace('{}','')\n",
    "        s=s.replace('[]','')\n",
    "        s=s.replace('()','')\n",
    "    return s==''"
   ]
  },
  {
   "cell_type": "code",
   "execution_count": 48,
   "metadata": {},
   "outputs": [
    {
     "data": {
      "text/plain": [
       "False"
      ]
     },
     "execution_count": 48,
     "metadata": {},
     "output_type": "execute_result"
    }
   ],
   "source": [
    "validBraces_(\"({[}])\")"
   ]
  },
  {
   "cell_type": "code",
   "execution_count": null,
   "metadata": {},
   "outputs": [],
   "source": []
  }
 ],
 "metadata": {
  "kernelspec": {
   "display_name": "Python 3",
   "language": "python",
   "name": "python3"
  },
  "language_info": {
   "codemirror_mode": {
    "name": "ipython",
    "version": 3
   },
   "file_extension": ".py",
   "mimetype": "text/x-python",
   "name": "python",
   "nbconvert_exporter": "python",
   "pygments_lexer": "ipython3",
   "version": "3.7.0"
  }
 },
 "nbformat": 4,
 "nbformat_minor": 2
}
